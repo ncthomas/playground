{
 "cells": [
  {
   "cell_type": "code",
   "execution_count": 1,
   "metadata": {},
   "outputs": [
    {
     "name": "stderr",
     "output_type": "stream",
     "text": [
      "Using TensorFlow backend.\n"
     ]
    }
   ],
   "source": [
    "import numpy\n",
    "import keras.models\n",
    "import keras.layers"
   ]
  },
  {
   "cell_type": "code",
   "execution_count": 33,
   "metadata": {},
   "outputs": [],
   "source": [
    "# load the dataset\n",
    "dataset = numpy.loadtxt('/Users/laurapallett/data/niclas_thomas/pima_diabetes/pima_diabetes.csv', delimiter=',')\n",
    "\n",
    "# split into input (X) and output (y) variables\n",
    "X = dataset[:,0:8]\n",
    "y = dataset[:,8]"
   ]
  },
  {
   "cell_type": "code",
   "execution_count": 34,
   "metadata": {},
   "outputs": [
    {
     "data": {
      "text/plain": [
       "(768, 8)"
      ]
     },
     "execution_count": 34,
     "metadata": {},
     "output_type": "execute_result"
    }
   ],
   "source": [
    "X.shape"
   ]
  },
  {
   "cell_type": "code",
   "execution_count": 83,
   "metadata": {},
   "outputs": [],
   "source": [
    "num_features = X.shape[1]\n",
    "\n",
    "# define the keras model\n",
    "first_layer_num_nodes = 6\n",
    "second_layer_num_nodes = 15\n",
    "output_layer_num_nodes = 1 # must be 1 for binary class output\n",
    "\n",
    "model = keras.models.Sequential()\n",
    "\n",
    "first_layer = keras.layers.Dense(first_layer_num_nodes, input_dim=num_features, activation='relu')\n",
    "model.add(first_layer)\n",
    "\n",
    "second_layer = keras.layers.Dense(second_layer_num_nodes, activation='tanh')\n",
    "model.add(second_layer)\n",
    "\n",
    "output_layer = keras.layers.Dense(output_layer_num_nodes, activation='sigmoid')\n",
    "model.add(output_layer)"
   ]
  },
  {
   "cell_type": "code",
   "execution_count": 84,
   "metadata": {},
   "outputs": [],
   "source": [
    "# compile the keras model\n",
    "model.compile(loss='binary_crossentropy', optimizer='adam', metrics=['accuracy'])"
   ]
  },
  {
   "cell_type": "code",
   "execution_count": 85,
   "metadata": {},
   "outputs": [
    {
     "name": "stdout",
     "output_type": "stream",
     "text": [
      "Epoch 1/10\n",
      "768/768 [==============================] - 0s 386us/step - loss: 0.9030 - accuracy: 0.3490\n",
      "Epoch 2/10\n",
      "768/768 [==============================] - 0s 151us/step - loss: 0.6939 - accuracy: 0.5286\n",
      "Epoch 3/10\n",
      "768/768 [==============================] - 0s 173us/step - loss: 0.6437 - accuracy: 0.6641\n",
      "Epoch 4/10\n",
      "768/768 [==============================] - 0s 167us/step - loss: 0.6336 - accuracy: 0.6589\n",
      "Epoch 5/10\n",
      "768/768 [==============================] - 0s 158us/step - loss: 0.6308 - accuracy: 0.6602\n",
      "Epoch 6/10\n",
      "768/768 [==============================] - 0s 165us/step - loss: 0.6285 - accuracy: 0.6602\n",
      "Epoch 7/10\n",
      "768/768 [==============================] - 0s 144us/step - loss: 0.6257 - accuracy: 0.6615\n",
      "Epoch 8/10\n",
      "768/768 [==============================] - 0s 132us/step - loss: 0.6269 - accuracy: 0.6602\n",
      "Epoch 9/10\n",
      "768/768 [==============================] - 0s 214us/step - loss: 0.6276 - accuracy: 0.6602\n",
      "Epoch 10/10\n",
      "768/768 [==============================] - 0s 224us/step - loss: 0.6221 - accuracy: 0.6602\n"
     ]
    },
    {
     "data": {
      "text/plain": [
       "<keras.callbacks.callbacks.History at 0x13b19bd30>"
      ]
     },
     "execution_count": 85,
     "metadata": {},
     "output_type": "execute_result"
    }
   ],
   "source": [
    "# fit the keras model on the dataset\n",
    "model.fit(X, y, epochs=10, batch_size=10)"
   ]
  },
  {
   "cell_type": "code",
   "execution_count": 86,
   "metadata": {},
   "outputs": [
    {
     "name": "stdout",
     "output_type": "stream",
     "text": [
      "768/768 [==============================] - 0s 68us/step\n",
      "Accuracy: 66.3\n"
     ]
    }
   ],
   "source": [
    "# evaluate the keras model\n",
    "_, accuracy = model.evaluate(X, y)\n",
    "print('Accuracy: {:.1f}'.format(accuracy*100))"
   ]
  },
  {
   "cell_type": "code",
   "execution_count": 69,
   "metadata": {},
   "outputs": [
    {
     "data": {
      "text/plain": [
       "array([[0.3391176 ],\n",
       "       [0.3391176 ],\n",
       "       [0.33911675],\n",
       "       [0.3391176 ],\n",
       "       [0.44550195],\n",
       "       [0.3366971 ],\n",
       "       [0.33935964],\n",
       "       [0.3391176 ],\n",
       "       [0.36777264],\n",
       "       [0.26848564]], dtype=float32)"
      ]
     },
     "execution_count": 69,
     "metadata": {},
     "output_type": "execute_result"
    }
   ],
   "source": [
    "model.predict(X[0:10,])"
   ]
  },
  {
   "cell_type": "code",
   "execution_count": 70,
   "metadata": {},
   "outputs": [
    {
     "data": {
      "text/plain": [
       "array([[0],\n",
       "       [0],\n",
       "       [0],\n",
       "       [0],\n",
       "       [0],\n",
       "       [0],\n",
       "       [0],\n",
       "       [0],\n",
       "       [0],\n",
       "       [0]], dtype=int32)"
      ]
     },
     "execution_count": 70,
     "metadata": {},
     "output_type": "execute_result"
    }
   ],
   "source": [
    "model.predict_classes(X[0:10,])"
   ]
  },
  {
   "cell_type": "code",
   "execution_count": 71,
   "metadata": {},
   "outputs": [
    {
     "data": {
      "text/plain": [
       "array([[0.3391176 ],\n",
       "       [0.3391176 ],\n",
       "       [0.33911675],\n",
       "       [0.3391176 ],\n",
       "       [0.44550195],\n",
       "       [0.3366971 ],\n",
       "       [0.33935964],\n",
       "       [0.3391176 ],\n",
       "       [0.36777264],\n",
       "       [0.26848564]], dtype=float32)"
      ]
     },
     "execution_count": 71,
     "metadata": {},
     "output_type": "execute_result"
    }
   ],
   "source": [
    "model.predict(X[0:10,])"
   ]
  },
  {
   "cell_type": "code",
   "execution_count": 76,
   "metadata": {},
   "outputs": [
    {
     "data": {
      "text/plain": [
       "[array([[-0.36184603,  0.4051004 ,  0.2072103 , -0.01480281,  0.17598201,\n",
       "          0.19062239,  0.5789197 ,  0.22171563, -0.12686458,  0.27612278],\n",
       "        [-0.04695803,  0.11439729, -0.2074804 ,  0.6053305 , -0.5505459 ,\n",
       "          0.31436765,  0.48031753, -0.5691207 ,  0.02470875, -0.25086725],\n",
       "        [ 0.3874157 ,  0.10791135, -0.3413437 ,  0.33914402, -0.35370317,\n",
       "          0.06285809, -0.42273012,  0.17164153,  0.08407152,  0.38369426],\n",
       "        [-0.41189292, -0.31466582, -0.09762326, -0.07607884,  0.43528497,\n",
       "          0.47034538,  0.43348855,  0.33715433,  0.10109462, -0.01968872],\n",
       "        [ 0.6132358 , -0.5678756 ,  0.5592213 , -0.5940919 , -0.55519515,\n",
       "         -0.4202004 ,  0.63780224,  0.45543104, -0.617015  , -0.38503835],\n",
       "        [ 0.21809366, -0.35136506,  0.05638742, -0.30312765,  0.07284471,\n",
       "         -0.25156608, -0.22909598,  0.4666192 , -0.30980584, -0.22025451]],\n",
       "       dtype=float32),\n",
       " array([ 0.06069943,  0.        ,  0.00996718, -0.03419448, -0.07387971,\n",
       "         0.05640871,  0.01732565,  0.        , -0.02586724,  0.01918223],\n",
       "       dtype=float32)]"
      ]
     },
     "execution_count": 76,
     "metadata": {},
     "output_type": "execute_result"
    }
   ],
   "source": [
    "second_layer.get_weights()"
   ]
  },
  {
   "cell_type": "code",
   "execution_count": null,
   "metadata": {},
   "outputs": [],
   "source": []
  }
 ],
 "metadata": {
  "kernelspec": {
   "display_name": "Python 3",
   "language": "python",
   "name": "python3"
  },
  "language_info": {
   "codemirror_mode": {
    "name": "ipython",
    "version": 3
   },
   "file_extension": ".py",
   "mimetype": "text/x-python",
   "name": "python",
   "nbconvert_exporter": "python",
   "pygments_lexer": "ipython3",
   "version": "3.7.0"
  }
 },
 "nbformat": 4,
 "nbformat_minor": 4
}
